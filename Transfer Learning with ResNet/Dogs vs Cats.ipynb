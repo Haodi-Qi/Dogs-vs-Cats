{
 "cells": [
  {
   "cell_type": "markdown",
   "metadata": {},
   "source": [
    "## Dogs vs Cats with Pytorch"
   ]
  },
  {
   "cell_type": "code",
   "execution_count": 1,
   "metadata": {
    "ExecuteTime": {
     "end_time": "2020-06-25T15:06:27.509036Z",
     "start_time": "2020-06-25T15:06:19.387833Z"
    }
   },
   "outputs": [],
   "source": [
    "import numpy as np # linear algebra\n",
    "import pandas as pd # data processing, CSV file I/O (e.g. pd.read_csv)\n",
    "import os, time, copy, math\n",
    "\n",
    "import torch\n",
    "import torch.nn as nn\n",
    "import torch.optim as optim\n",
    "from torch.optim import lr_scheduler\n",
    "\n",
    "import torchvision\n",
    "from torch.utils.data import Dataset, DataLoader, ConcatDataset\n",
    "from torchvision import transforms\n",
    "\n",
    "import matplotlib.pyplot as plt\n",
    "from PIL import Image\n",
    "\n",
    "%matplotlib inline\n",
    "\n",
    "device = torch.device(\"cuda:0\" if torch.cuda.is_available() else \"cpu\")\n",
    "BATCH_SIZE = 32"
   ]
  },
  {
   "cell_type": "code",
   "execution_count": 2,
   "metadata": {
    "ExecuteTime": {
     "end_time": "2020-06-10T17:12:23.362783Z",
     "start_time": "2020-06-10T17:12:23.208785Z"
    }
   },
   "outputs": [],
   "source": [
    "data_dir = './data/train'\n",
    "cat_files = [tf for tf in os.listdir(data_dir) if 'cat' in tf]\n",
    "dog_files = [tf for tf in os.listdir(data_dir) if 'dog' in tf]"
   ]
  },
  {
   "cell_type": "code",
   "execution_count": 3,
   "metadata": {
    "ExecuteTime": {
     "end_time": "2020-06-10T17:12:23.780782Z",
     "start_time": "2020-06-10T17:12:23.370794Z"
    }
   },
   "outputs": [],
   "source": [
    "import random\n",
    "random.seed(2020)\n",
    "val_indices = random.sample(range(0,len(cat_files)),1000)\n",
    "val_cats_file = [cat_files[i] for i in val_indices]\n",
    "val_dogs_file = [dog_files[i] for i in val_indices]\n",
    "\n",
    "train_cats_file = [cat_files[i] for i in range(len(cat_files)) if i not in val_indices]\n",
    "train_dogs_file = [dog_files[i] for i in range(len(dog_files)) if i not in val_indices]"
   ]
  },
  {
   "cell_type": "code",
   "execution_count": 8,
   "metadata": {
    "ExecuteTime": {
     "end_time": "2020-06-13T01:55:32.591942Z",
     "start_time": "2020-06-13T01:55:32.578932Z"
    }
   },
   "outputs": [],
   "source": [
    "training_transform_pipeline=transforms.Compose([\n",
    "    transforms.RandomRotation(5), # some rotation\n",
    "    transforms.RandomHorizontalFlip(), # random flipping\n",
    "    transforms.RandomResizedCrop(224, scale=(0.96, 1.0), ratio=(0.95, 1.05)), # resize cropping\n",
    "    # the ratio is 0.96-1.0 to avoid cutting off important features like Head of dog/cat\n",
    "    transforms.ToTensor(), \n",
    "    transforms.Normalize([0.485, 0.456, 0.406], [0.229, 0.224, 0.225]) # the normalization mean and std are recommended to work well\n",
    "])\n",
    "\n",
    "val_transform_pipeline=transforms.Compose([\n",
    "    # just crop and normalization for val set\n",
    "    transforms.RandomResizedCrop(224, scale=(0.96, 1.0), ratio=(0.95, 1.05)), # resize cropping\n",
    "    # the ratio is 0.96-1.0 to avoid cutting off important features like Head of dog/cat\n",
    "    transforms.ToTensor(), \n",
    "    transforms.Normalize([0.485, 0.456, 0.406], [0.229, 0.224, 0.225]) # the normalization mean and std are recommended to work well\n",
    "])"
   ]
  },
  {
   "cell_type": "code",
   "execution_count": 9,
   "metadata": {
    "ExecuteTime": {
     "end_time": "2020-06-13T01:55:35.679509Z",
     "start_time": "2020-06-13T01:55:35.665509Z"
    }
   },
   "outputs": [],
   "source": [
    "class CatDogDataset(Dataset):\n",
    "    def __init__(self,file_list,dir, transform, mode='train'):\n",
    "        self.transform = transform\n",
    "        self.mode = mode\n",
    "        self.dir = dir\n",
    "        self.file_list = file_list\n",
    "        \n",
    "        if mode == 'train':\n",
    "            if 'dog' in self.file_list[0]:\n",
    "                self.label = 1\n",
    "            else:\n",
    "                self.label = 0\n",
    "    def __len__(self):\n",
    "        return len(self.file_list)\n",
    "    \n",
    "    def __getitem__(self,idx):\n",
    "        '''\n",
    "        return the tensor and label (None for val set)\n",
    "        '''\n",
    "        img = Image.open(os.path.join(self.dir, self.file_list[idx]))\n",
    "        img = self.transform(img)\n",
    "        if self.mode == 'train':\n",
    "            return img, self.label\n",
    "        else:\n",
    "            return img, -1\n"
   ]
  },
  {
   "cell_type": "code",
   "execution_count": 6,
   "metadata": {
    "ExecuteTime": {
     "end_time": "2020-06-10T17:12:23.872780Z",
     "start_time": "2020-06-10T17:12:23.860780Z"
    }
   },
   "outputs": [],
   "source": [
    "train_cats = CatDogDataset(train_cats_file,data_dir,transform=training_transform_pipeline)\n",
    "train_dogs = CatDogDataset(train_dogs_file,data_dir,transform=training_transform_pipeline)\n",
    "train_catdogs = ConcatDataset([train_cats, train_dogs]) # concat two dataset"
   ]
  },
  {
   "cell_type": "code",
   "execution_count": 7,
   "metadata": {
    "ExecuteTime": {
     "end_time": "2020-06-10T17:12:23.891779Z",
     "start_time": "2020-06-10T17:12:23.880781Z"
    }
   },
   "outputs": [],
   "source": [
    "val_cats = CatDogDataset(val_cats_file,data_dir,transform=val_transform_pipeline)\n",
    "val_dogs = CatDogDataset(val_dogs_file,data_dir,transform=val_transform_pipeline)\n",
    "val_catdogs = ConcatDataset([val_cats, val_dogs]) # concat two dataset"
   ]
  },
  {
   "cell_type": "code",
   "execution_count": 8,
   "metadata": {
    "ExecuteTime": {
     "end_time": "2020-06-10T17:12:23.915782Z",
     "start_time": "2020-06-10T17:12:23.902781Z"
    }
   },
   "outputs": [],
   "source": [
    "train_dataloader = DataLoader(train_catdogs, batch_size = BATCH_SIZE, shuffle=True) #  , num_workers=4\n",
    "val_dataloader = DataLoader(val_catdogs,batch_size=BATCH_SIZE,shuffle=False)"
   ]
  },
  {
   "cell_type": "code",
   "execution_count": 9,
   "metadata": {
    "ExecuteTime": {
     "end_time": "2020-06-10T17:12:23.935781Z",
     "start_time": "2020-06-10T17:12:23.922783Z"
    }
   },
   "outputs": [],
   "source": [
    "dataloader = {'train':train_dataloader,'val':val_dataloader}"
   ]
  },
  {
   "cell_type": "code",
   "execution_count": 12,
   "metadata": {
    "ExecuteTime": {
     "end_time": "2020-06-08T02:36:17.114825Z",
     "start_time": "2020-06-08T02:36:16.520830Z"
    }
   },
   "outputs": [],
   "source": [
    "def imshow(tup):\n",
    "    \"\"\"Imshow for Tensor.\"\"\"\n",
    "    inp, label = tup\n",
    "    inp = inp.numpy().transpose((1, 2, 0))\n",
    "    mean = np.array([0.485, 0.456, 0.406])\n",
    "    std = np.array([0.229, 0.224, 0.225])\n",
    "    inp = std * inp + mean\n",
    "    inp = np.clip(inp, 0, 1)\n",
    "    plt.imshow(inp)\n",
    "    if label==1:\n",
    "        plt.title('dog')\n",
    "    else:\n",
    "        plt.title('cat')\n",
    "    plt.pause(0.001)  # pause a bit so that plots are updated\n",
    "\n",
    "# imshow(catdogs[0])"
   ]
  },
  {
   "cell_type": "markdown",
   "metadata": {},
   "source": [
    "### Model Training and Validation"
   ]
  },
  {
   "cell_type": "code",
   "execution_count": 10,
   "metadata": {
    "ExecuteTime": {
     "end_time": "2020-06-11T02:20:00.657875Z",
     "start_time": "2020-06-11T02:20:00.638882Z"
    },
    "code_folding": []
   },
   "outputs": [],
   "source": [
    "def train_with_val(model, loss_fn, optimizer, scheduler, num_epochs, best_loss=math.inf, best_acc=0.,best_model_wts=None):\n",
    "    \n",
    "    if best_model_wts == None:\n",
    "            best_model_wts = copy.deepcopy(model.state_dict())\n",
    "    \n",
    "    start_time = time.time()\n",
    "    \n",
    "    training_errors = []\n",
    "    validation_errors = []\n",
    "    \n",
    "    for epoch in range(num_epochs):\n",
    "        print('Epoch {}/{}'.format(epoch+1, num_epochs))\n",
    "        print('-' * 10)\n",
    "\n",
    "        for mode in ['train', 'val']:\n",
    "            # change model mode\n",
    "            if mode == 'train':\n",
    "                model.train()\n",
    "            else:\n",
    "                model.eval()\n",
    "\n",
    "            running_loss = 0.0\n",
    "            running_corrects = 0\n",
    "\n",
    "            for i, (inputs, labels) in enumerate(dataloader[mode]):\n",
    "                inputs = inputs.to(device)\n",
    "                labels = labels.to(device)\n",
    "\n",
    "                # zero the parameter gradients\n",
    "                optimizer.zero_grad()\n",
    "\n",
    "                with torch.set_grad_enabled(mode == 'train'):  # if training\n",
    "                    outputs = model(inputs)\n",
    "                    _, preds = torch.max(outputs, 1)\n",
    "                    loss = loss_fn(outputs, labels)\n",
    "\n",
    "                    if mode == 'train':  # forward\n",
    "                        loss.backward()\n",
    "                        optimizer.step()\n",
    "                        scheduler.step()\n",
    "\n",
    "                    # compare predictions and gt\n",
    "                    running_loss += loss.item() * inputs.size(0)\n",
    "                    running_corrects += torch.sum(preds == labels.data)\n",
    "                    \n",
    "            # calculate epoch level stats\n",
    "            epoch_loss = running_loss / len(dataloader[mode].dataset)\n",
    "            epoch_acc = running_corrects.double() / len(dataloader[mode].dataset)\n",
    "            \n",
    "            print('Mode {}, Loss: {:.4f} Acc: {:.4f}'.format(\n",
    "                mode, epoch_loss, epoch_acc))\n",
    "            \n",
    "            if mode == 'val' and epoch_loss < best_loss:\n",
    "                print()\n",
    "                print(f'New best model found!')\n",
    "                print(f'New record loss: {epoch_loss}, previous record loss: {best_loss}')\n",
    "                best_loss = epoch_loss\n",
    "                best_acc = epoch_acc\n",
    "                best_model_wts = copy.deepcopy(model.state_dict())\n",
    "                \n",
    "            if mode == 'train':\n",
    "                training_errors.append(epoch_loss)\n",
    "            else:\n",
    "                validation_errors.append(epoch_loss)\n",
    "            \n",
    "        time_elapsed = time.time() - start_time\n",
    "        print('Training has been for {:.0f}m {:.0f}s'.format(\n",
    "            time_elapsed // 60, time_elapsed % 60))\n",
    "        print()\n",
    "\n",
    "    \n",
    "    return model, best_loss, best_acc, best_model_wts, training_errors, validation_errors"
   ]
  },
  {
   "cell_type": "code",
   "execution_count": 73,
   "metadata": {
    "ExecuteTime": {
     "end_time": "2020-06-13T04:20:49.364188Z",
     "start_time": "2020-06-13T04:20:46.991190Z"
    }
   },
   "outputs": [],
   "source": [
    "model_conv = torchvision.models.resnet101(pretrained=True)"
   ]
  },
  {
   "cell_type": "code",
   "execution_count": 12,
   "metadata": {
    "ExecuteTime": {
     "end_time": "2020-06-10T15:51:44.529859Z",
     "start_time": "2020-06-10T15:51:42.336753Z"
    }
   },
   "outputs": [],
   "source": [
    "for param in model_conv.parameters(): \n",
    "    param.requires_grad = False # do not change the parameter in the pretrained model\n",
    "\n",
    "# Parameters of newly constructed modules have requires_grad=True by default\n",
    "num_ftrs = model_conv.fc.in_features # get the number of features before the last layer\n",
    "model_conv.fc = nn.Linear(num_ftrs, 2) # modify the last layer\n",
    "\n",
    "model_conv = model_conv.to(device)"
   ]
  },
  {
   "cell_type": "code",
   "execution_count": 74,
   "metadata": {
    "ExecuteTime": {
     "end_time": "2020-06-13T04:20:50.973238Z",
     "start_time": "2020-06-13T04:20:50.939189Z"
    }
   },
   "outputs": [],
   "source": [
    "loss_fn = nn.CrossEntropyLoss()\n",
    "\n",
    "# Observe that only parameters of final layer are being optimized\n",
    "optimizer_conv = optim.SGD(model_conv.fc.parameters(), lr=0.001, momentum=0.9)\n",
    "\n",
    "# Decay LR by a factor of 0.1 every 7 epochs\n",
    "exp_lr_scheduler = lr_scheduler.StepLR(optimizer_conv, step_size=7, gamma=0.1)"
   ]
  },
  {
   "cell_type": "markdown",
   "metadata": {},
   "source": [
    "#### First time training"
   ]
  },
  {
   "cell_type": "code",
   "execution_count": 20,
   "metadata": {},
   "outputs": [],
   "source": [
    "EPOCH_NUM = 30"
   ]
  },
  {
   "cell_type": "code",
   "execution_count": 14,
   "metadata": {
    "collapsed": true,
    "jupyter": {
     "outputs_hidden": true
    }
   },
   "outputs": [
    {
     "name": "stdout",
     "output_type": "stream",
     "text": [
      "Epoch 1/30\n",
      "----------\n",
      "Mode train, Loss: 0.5165 Acc: 0.8829\n",
      "Mode val, Loss: 0.5212 Acc: 0.8775\n",
      "\n",
      "New best model found!\n",
      "New record loss: 0.5211651968955994, previous record loss: inf\n",
      "Training has been for 9m 50s\n",
      "\n",
      "Epoch 2/30\n",
      "----------\n",
      "Mode train, Loss: 0.5153 Acc: 0.8861\n",
      "Mode val, Loss: 0.5177 Acc: 0.8815\n",
      "\n",
      "New best model found!\n",
      "New record loss: 0.5177491798400878, previous record loss: 0.5211651968955994\n",
      "Training has been for 18m 50s\n",
      "\n",
      "Epoch 3/30\n",
      "----------\n",
      "Mode train, Loss: 0.5153 Acc: 0.8870\n",
      "Mode val, Loss: 0.5193 Acc: 0.8875\n",
      "Training has been for 27m 39s\n",
      "\n",
      "Epoch 4/30\n",
      "----------\n",
      "Mode train, Loss: 0.5148 Acc: 0.8870\n",
      "Mode val, Loss: 0.5207 Acc: 0.8800\n",
      "Training has been for 36m 40s\n",
      "\n",
      "Epoch 5/30\n",
      "----------\n",
      "Mode train, Loss: 0.5147 Acc: 0.8847\n",
      "Mode val, Loss: 0.5209 Acc: 0.8800\n",
      "Training has been for 45m 40s\n",
      "\n",
      "Epoch 6/30\n",
      "----------\n",
      "Mode train, Loss: 0.5143 Acc: 0.8864\n",
      "Mode val, Loss: 0.5182 Acc: 0.8855\n",
      "Training has been for 54m 42s\n",
      "\n",
      "Epoch 7/30\n",
      "----------\n",
      "Mode train, Loss: 0.5141 Acc: 0.8877\n",
      "Mode val, Loss: 0.5190 Acc: 0.8825\n",
      "Training has been for 63m 39s\n",
      "\n",
      "Epoch 8/30\n",
      "----------\n",
      "Mode train, Loss: 0.5145 Acc: 0.8882\n",
      "Mode val, Loss: 0.5196 Acc: 0.8825\n",
      "Training has been for 72m 44s\n",
      "\n",
      "Epoch 9/30\n",
      "----------\n",
      "Mode train, Loss: 0.5147 Acc: 0.8857\n",
      "Mode val, Loss: 0.5194 Acc: 0.8850\n",
      "Training has been for 81m 47s\n",
      "\n",
      "Epoch 10/30\n",
      "----------\n",
      "Mode train, Loss: 0.5152 Acc: 0.8835\n",
      "Mode val, Loss: 0.5187 Acc: 0.8785\n",
      "Training has been for 90m 58s\n",
      "\n",
      "Epoch 11/30\n",
      "----------\n",
      "Mode train, Loss: 0.5148 Acc: 0.8848\n",
      "Mode val, Loss: 0.5237 Acc: 0.8815\n",
      "Training has been for 99m 56s\n",
      "\n",
      "Epoch 12/30\n",
      "----------\n",
      "Mode train, Loss: 0.5147 Acc: 0.8853\n",
      "Mode val, Loss: 0.5215 Acc: 0.8815\n",
      "Training has been for 107m 18s\n",
      "\n",
      "Epoch 13/30\n",
      "----------\n",
      "Mode train, Loss: 0.5147 Acc: 0.8867\n",
      "Mode val, Loss: 0.5208 Acc: 0.8855\n",
      "Training has been for 114m 38s\n",
      "\n",
      "Epoch 14/30\n",
      "----------\n",
      "Mode train, Loss: 0.5143 Acc: 0.8884\n",
      "Mode val, Loss: 0.5189 Acc: 0.8815\n",
      "Training has been for 121m 60s\n",
      "\n",
      "Epoch 15/30\n",
      "----------\n",
      "Mode train, Loss: 0.5148 Acc: 0.8861\n",
      "Mode val, Loss: 0.5167 Acc: 0.8820\n",
      "\n",
      "New best model found!\n",
      "New record loss: 0.5167337813377381, previous record loss: 0.5177491798400878\n",
      "Training has been for 129m 24s\n",
      "\n",
      "Epoch 16/30\n",
      "----------\n",
      "Mode train, Loss: 0.5151 Acc: 0.8832\n",
      "Mode val, Loss: 0.5157 Acc: 0.8815\n",
      "\n",
      "New best model found!\n",
      "New record loss: 0.5157223091125488, previous record loss: 0.5167337813377381\n",
      "Training has been for 136m 47s\n",
      "\n",
      "Epoch 17/30\n",
      "----------\n",
      "Mode train, Loss: 0.5153 Acc: 0.8856\n",
      "Mode val, Loss: 0.5188 Acc: 0.8820\n",
      "Training has been for 144m 8s\n",
      "\n",
      "Epoch 18/30\n",
      "----------\n",
      "Mode train, Loss: 0.5145 Acc: 0.8865\n",
      "Mode val, Loss: 0.5185 Acc: 0.8830\n",
      "Training has been for 151m 30s\n",
      "\n",
      "Epoch 19/30\n",
      "----------\n",
      "Mode train, Loss: 0.5140 Acc: 0.8856\n",
      "Mode val, Loss: 0.5214 Acc: 0.8800\n",
      "Training has been for 158m 51s\n",
      "\n",
      "Epoch 20/30\n",
      "----------\n",
      "Mode train, Loss: 0.5145 Acc: 0.8848\n",
      "Mode val, Loss: 0.5169 Acc: 0.8845\n",
      "Training has been for 166m 12s\n",
      "\n",
      "Epoch 21/30\n",
      "----------\n",
      "Mode train, Loss: 0.5151 Acc: 0.8874\n",
      "Mode val, Loss: 0.5189 Acc: 0.8815\n",
      "Training has been for 173m 31s\n",
      "\n",
      "Epoch 22/30\n",
      "----------\n",
      "Mode train, Loss: 0.5143 Acc: 0.8887\n",
      "Mode val, Loss: 0.5205 Acc: 0.8855\n",
      "Training has been for 180m 54s\n",
      "\n",
      "Epoch 23/30\n",
      "----------\n",
      "Mode train, Loss: 0.5148 Acc: 0.8883\n",
      "Mode val, Loss: 0.5197 Acc: 0.8835\n",
      "Training has been for 188m 22s\n",
      "\n",
      "Epoch 24/30\n",
      "----------\n",
      "Mode train, Loss: 0.5154 Acc: 0.8856\n",
      "Mode val, Loss: 0.5210 Acc: 0.8730\n",
      "Training has been for 195m 50s\n",
      "\n",
      "Epoch 25/30\n",
      "----------\n",
      "Mode train, Loss: 0.5151 Acc: 0.8836\n",
      "Mode val, Loss: 0.5224 Acc: 0.8740\n",
      "Training has been for 203m 12s\n",
      "\n",
      "Epoch 26/30\n",
      "----------\n",
      "Mode train, Loss: 0.5150 Acc: 0.8859\n",
      "Mode val, Loss: 0.5199 Acc: 0.8865\n",
      "Training has been for 210m 31s\n",
      "\n",
      "Epoch 27/30\n",
      "----------\n",
      "Mode train, Loss: 0.5149 Acc: 0.8852\n",
      "Mode val, Loss: 0.5190 Acc: 0.8875\n",
      "Training has been for 217m 51s\n",
      "\n",
      "Epoch 28/30\n",
      "----------\n",
      "Mode train, Loss: 0.5147 Acc: 0.8870\n",
      "Mode val, Loss: 0.5201 Acc: 0.8815\n",
      "Training has been for 225m 10s\n",
      "\n",
      "Epoch 29/30\n",
      "----------\n",
      "Mode train, Loss: 0.5144 Acc: 0.8874\n",
      "Mode val, Loss: 0.5209 Acc: 0.8815\n",
      "Training has been for 232m 31s\n",
      "\n",
      "Epoch 30/30\n",
      "----------\n",
      "Mode train, Loss: 0.5159 Acc: 0.8849\n",
      "Mode val, Loss: 0.5207 Acc: 0.8805\n",
      "Training has been for 239m 57s\n",
      "\n"
     ]
    }
   ],
   "source": [
    "model_conv_trained, best_loss, best_acc, best_model_wts, training_errors, validation_errors = train_with_val(\n",
    "                                                         model_conv,\n",
    "                                                         loss_fn,\n",
    "                                                         optimizer_conv,\n",
    "                                                         exp_lr_scheduler,\n",
    "                                                         num_epochs=EPOCH_NUM)\n",
    "# start time 14:08, about 7-8 min per epoch\n"
   ]
  },
  {
   "cell_type": "code",
   "execution_count": 15,
   "metadata": {},
   "outputs": [
    {
     "name": "stdout",
     "output_type": "stream",
     "text": [
      "0.5157223091125488 tensor(0.8815, device='cuda:0', dtype=torch.float64)\n"
     ]
    }
   ],
   "source": [
    "print(best_loss, best_acc)"
   ]
  },
  {
   "cell_type": "code",
   "execution_count": 16,
   "metadata": {},
   "outputs": [],
   "source": [
    "torch.save(model_conv_trained.state_dict(), './30epoch')\n",
    "\n",
    "torch.save(best_model_wts,'./best_model')"
   ]
  },
  {
   "cell_type": "code",
   "execution_count": 21,
   "metadata": {},
   "outputs": [
    {
     "data": {
      "text/plain": [
       "<matplotlib.axes._subplots.AxesSubplot at 0x7fb9f0f17550>"
      ]
     },
     "execution_count": 21,
     "metadata": {},
     "output_type": "execute_result"
    },
    {
     "data": {
      "image/png": "[encoded data removed]",
      "text/plain": [
       "<Figure size 432x288 with 1 Axes>"
      ]
     },
     "metadata": {
      "needs_background": "light"
     },
     "output_type": "display_data"
    }
   ],
   "source": [
    "errors = pd.DataFrame() \n",
    "errors['epoch'] = list(range(1,EPOCH_NUM+1))\n",
    "errors['train'] = training_errors\n",
    "errors['validation'] = validation_errors\n",
    "\n",
    "errors = errors.set_index(errors.epoch,drop=True)\n",
    "errors.drop('epoch',axis=1,inplace=True)\n",
    "errors.plot()"
   ]
  },
  {
   "cell_type": "code",
   "execution_count": 23,
   "metadata": {},
   "outputs": [],
   "source": [
    "import pickle\n",
    "\n",
    "pickle.dump(errors,open('30EpochErrors.p','wb'))\n",
    "pickle.dump((best_loss,best_acc),open('best_results.p','wb') )"
   ]
  },
  {
   "cell_type": "markdown",
   "metadata": {},
   "source": [
    "#### Further training on trained models"
   ]
  },
  {
   "cell_type": "code",
   "execution_count": 14,
   "metadata": {},
   "outputs": [],
   "source": [
    "EPOCH_NUM = 30"
   ]
  },
  {
   "cell_type": "code",
   "execution_count": 2,
   "metadata": {
    "ExecuteTime": {
     "end_time": "2020-06-13T01:49:00.617995Z",
     "start_time": "2020-06-13T01:49:00.169996Z"
    }
   },
   "outputs": [],
   "source": [
    "import pickle\n",
    "\n",
    "errors = pickle.load(open('./pickles/EpochErrors.p','rb'))\n",
    "(best_loss,best_acc) = pickle.load(open('./pickles/best_results.p','rb') )"
   ]
  },
  {
   "cell_type": "code",
   "execution_count": 16,
   "metadata": {
    "ExecuteTime": {
     "end_time": "2020-06-10T17:12:44.934933Z",
     "start_time": "2020-06-10T17:12:40.106817Z"
    }
   },
   "outputs": [
    {
     "data": {
      "text/plain": [
       "<All keys matched successfully>"
      ]
     },
     "execution_count": 16,
     "metadata": {},
     "output_type": "execute_result"
    }
   ],
   "source": [
    "# to load previously trained model for further training\n",
    "\n",
    "model_conv.load_state_dict(torch.load('./model/90epoch'))"
   ]
  },
  {
   "cell_type": "code",
   "execution_count": 17,
   "metadata": {
    "ExecuteTime": {
     "end_time": "2020-06-11T08:03:45.865743Z",
     "start_time": "2020-06-11T02:20:01.648166Z"
    },
    "jupyter": {
     "outputs_hidden": true
    },
    "scrolled": true
   },
   "outputs": [
    {
     "name": "stdout",
     "output_type": "stream",
     "text": [
      "Epoch 1/30\n",
      "----------\n",
      "Mode train, Loss: 0.3360 Acc: 0.9347\n",
      "Mode val, Loss: 0.3356 Acc: 0.9335\n",
      "\n",
      "New best model found!\n",
      "New record loss: 0.3355845034122467, previous record loss: 0.3969363210201263\n",
      "Training has been for 8m 19s\n",
      "\n",
      "Epoch 2/30\n",
      "----------\n",
      "Mode train, Loss: 0.3366 Acc: 0.9361\n",
      "Mode val, Loss: 0.3332 Acc: 0.9370\n",
      "\n",
      "New best model found!\n",
      "New record loss: 0.3332375690937042, previous record loss: 0.3355845034122467\n",
      "Training has been for 16m 9s\n",
      "\n",
      "Epoch 3/30\n",
      "----------\n",
      "Mode train, Loss: 0.3379 Acc: 0.9349\n",
      "Mode val, Loss: 0.3317 Acc: 0.9435\n",
      "\n",
      "New best model found!\n",
      "New record loss: 0.33173141169548037, previous record loss: 0.3332375690937042\n",
      "Training has been for 23m 58s\n",
      "\n",
      "Epoch 4/30\n",
      "----------\n",
      "Mode train, Loss: 0.3362 Acc: 0.9367\n",
      "Mode val, Loss: 0.3365 Acc: 0.9325\n",
      "Training has been for 31m 47s\n",
      "\n",
      "Epoch 5/30\n",
      "----------\n",
      "Mode train, Loss: 0.3369 Acc: 0.9362\n",
      "Mode val, Loss: 0.3303 Acc: 0.9370\n",
      "\n",
      "New best model found!\n",
      "New record loss: 0.3302905468940735, previous record loss: 0.33173141169548037\n",
      "Training has been for 39m 39s\n",
      "\n",
      "Epoch 6/30\n",
      "----------\n",
      "Mode train, Loss: 0.3358 Acc: 0.9364\n",
      "Mode val, Loss: 0.3343 Acc: 0.9250\n",
      "Training has been for 47m 29s\n",
      "\n",
      "Epoch 7/30\n",
      "----------\n",
      "Mode train, Loss: 0.3371 Acc: 0.9363\n",
      "Mode val, Loss: 0.3322 Acc: 0.9365\n",
      "Training has been for 55m 22s\n",
      "\n",
      "Epoch 8/30\n",
      "----------\n",
      "Mode train, Loss: 0.3358 Acc: 0.9357\n",
      "Mode val, Loss: 0.3288 Acc: 0.9420\n",
      "\n",
      "New best model found!\n",
      "New record loss: 0.32883025860786436, previous record loss: 0.3302905468940735\n",
      "Training has been for 63m 14s\n",
      "\n",
      "Epoch 9/30\n",
      "----------\n",
      "Mode train, Loss: 0.3362 Acc: 0.9361\n",
      "Mode val, Loss: 0.3307 Acc: 0.9300\n",
      "Training has been for 71m 8s\n",
      "\n",
      "Epoch 10/30\n",
      "----------\n",
      "Mode train, Loss: 0.3371 Acc: 0.9338\n",
      "Mode val, Loss: 0.3308 Acc: 0.9350\n",
      "Training has been for 79m 1s\n",
      "\n",
      "Epoch 11/30\n",
      "----------\n",
      "Mode train, Loss: 0.3368 Acc: 0.9349\n",
      "Mode val, Loss: 0.3286 Acc: 0.9425\n",
      "\n",
      "New best model found!\n",
      "New record loss: 0.32856696367263794, previous record loss: 0.32883025860786436\n",
      "Training has been for 86m 50s\n",
      "\n",
      "Epoch 12/30\n",
      "----------\n",
      "Mode train, Loss: 0.3356 Acc: 0.9367\n",
      "Mode val, Loss: 0.3339 Acc: 0.9390\n",
      "Training has been for 94m 56s\n",
      "\n",
      "Epoch 13/30\n",
      "----------\n",
      "Mode train, Loss: 0.3360 Acc: 0.9350\n",
      "Mode val, Loss: 0.3320 Acc: 0.9415\n",
      "Training has been for 102m 57s\n",
      "\n",
      "Epoch 14/30\n",
      "----------\n",
      "Mode train, Loss: 0.3365 Acc: 0.9356\n",
      "Mode val, Loss: 0.3332 Acc: 0.9305\n",
      "Training has been for 111m 10s\n",
      "\n",
      "Epoch 15/30\n",
      "----------\n",
      "Mode train, Loss: 0.3345 Acc: 0.9363\n",
      "Mode val, Loss: 0.3343 Acc: 0.9365\n",
      "Training has been for 119m 16s\n",
      "\n",
      "Epoch 16/30\n",
      "----------\n",
      "Mode train, Loss: 0.3363 Acc: 0.9364\n",
      "Mode val, Loss: 0.3349 Acc: 0.9250\n",
      "Training has been for 127m 23s\n",
      "\n",
      "Epoch 17/30\n",
      "----------\n",
      "Mode train, Loss: 0.3336 Acc: 0.9382\n",
      "Mode val, Loss: 0.3317 Acc: 0.9430\n",
      "Training has been for 135m 39s\n",
      "\n",
      "Epoch 18/30\n",
      "----------\n",
      "Mode train, Loss: 0.3372 Acc: 0.9338\n",
      "Mode val, Loss: 0.3307 Acc: 0.9440\n",
      "Training has been for 143m 60s\n",
      "\n",
      "Epoch 19/30\n",
      "----------\n",
      "Mode train, Loss: 0.3370 Acc: 0.9359\n",
      "Mode val, Loss: 0.3262 Acc: 0.9510\n",
      "\n",
      "New best model found!\n",
      "New record loss: 0.3261678011417389, previous record loss: 0.32856696367263794\n",
      "Training has been for 152m 19s\n",
      "\n",
      "Epoch 20/30\n",
      "----------\n",
      "Mode train, Loss: 0.3356 Acc: 0.9365\n",
      "Mode val, Loss: 0.3271 Acc: 0.9420\n",
      "Training has been for 160m 46s\n",
      "\n",
      "Epoch 21/30\n",
      "----------\n",
      "Mode train, Loss: 0.3355 Acc: 0.9348\n",
      "Mode val, Loss: 0.3307 Acc: 0.9400\n",
      "Training has been for 168m 57s\n",
      "\n",
      "Epoch 22/30\n",
      "----------\n",
      "Mode train, Loss: 0.3356 Acc: 0.9356\n",
      "Mode val, Loss: 0.3274 Acc: 0.9445\n",
      "Training has been for 177m 10s\n",
      "\n",
      "Epoch 23/30\n",
      "----------\n",
      "Mode train, Loss: 0.3356 Acc: 0.9355\n",
      "Mode val, Loss: 0.3326 Acc: 0.9395\n",
      "Training has been for 185m 1s\n",
      "\n",
      "Epoch 24/30\n",
      "----------\n",
      "Mode train, Loss: 0.3360 Acc: 0.9355\n",
      "Mode val, Loss: 0.3292 Acc: 0.9415\n",
      "Training has been for 192m 55s\n",
      "\n",
      "Epoch 25/30\n",
      "----------\n",
      "Mode train, Loss: 0.3356 Acc: 0.9367\n",
      "Mode val, Loss: 0.3292 Acc: 0.9385\n",
      "Training has been for 200m 46s\n",
      "\n",
      "Epoch 26/30\n",
      "----------\n",
      "Mode train, Loss: 0.3371 Acc: 0.9343\n",
      "Mode val, Loss: 0.3321 Acc: 0.9385\n",
      "Training has been for 208m 37s\n",
      "\n",
      "Epoch 27/30\n",
      "----------\n",
      "Mode train, Loss: 0.3369 Acc: 0.9351\n",
      "Mode val, Loss: 0.3299 Acc: 0.9415\n",
      "Training has been for 216m 26s\n",
      "\n",
      "Epoch 28/30\n",
      "----------\n",
      "Mode train, Loss: 0.3360 Acc: 0.9358\n",
      "Mode val, Loss: 0.3310 Acc: 0.9350\n",
      "Training has been for 224m 14s\n",
      "\n",
      "Epoch 29/30\n",
      "----------\n",
      "Mode train, Loss: 0.3360 Acc: 0.9366\n",
      "Mode val, Loss: 0.3316 Acc: 0.9445\n",
      "Training has been for 232m 2s\n",
      "\n",
      "Epoch 30/30\n",
      "----------\n",
      "Mode train, Loss: 0.3359 Acc: 0.9363\n",
      "Mode val, Loss: 0.3333 Acc: 0.9300\n",
      "Training has been for 239m 51s\n",
      "\n"
     ]
    }
   ],
   "source": [
    "model_conv_trained, best_loss, best_acc, best_model_wts, training_errors, validation_errors = train_with_val(model_conv,\n",
    "                                                         loss_fn,\n",
    "                                                         optimizer_conv,\n",
    "                                                         exp_lr_scheduler,\n",
    "                                                         num_epochs=EPOCH_NUM,\n",
    "                                                         best_loss=best_loss,\n",
    "                                                         best_acc=best_acc,\n",
    "                                                         best_model_wts = torch.load('./model/best_model'))"
   ]
  },
  {
   "cell_type": "code",
   "execution_count": 18,
   "metadata": {},
   "outputs": [
    {
     "name": "stdout",
     "output_type": "stream",
     "text": [
      "0.3261678011417389 tensor(0.9510, device='cuda:0', dtype=torch.float64)\n"
     ]
    }
   ],
   "source": [
    "print(best_loss, best_acc)\n",
    "# 0.3969363210201263 tensor(0.9445, device='cuda:0', dtype=torch.float6"
   ]
  },
  {
   "cell_type": "code",
   "execution_count": 19,
   "metadata": {},
   "outputs": [],
   "source": [
    "torch.save(model_conv_trained.state_dict(), './model/120epoch')\n",
    "\n",
    "torch.save(best_model_wts,'./model/best_model')"
   ]
  },
  {
   "cell_type": "code",
   "execution_count": 20,
   "metadata": {},
   "outputs": [],
   "source": [
    "pickle.dump(errors,open('./pickles/EpochErrors.p','wb'))\n",
    "pickle.dump((best_loss,best_acc),open('./pickles/best_results.p','wb') )"
   ]
  },
  {
   "cell_type": "code",
   "execution_count": null,
   "metadata": {},
   "outputs": [],
   "source": [
    "_ = pd.DataFrame({'train':training_errors,'validation':validation_errors})\n",
    "errors = pd.concat([errors,_])\n",
    "errors.index = range(1,len(errors)+1)\n",
    "\n",
    "pickle.dump(errors,open('./pickles/EpochErrors.p','wb'))"
   ]
  },
  {
   "cell_type": "code",
   "execution_count": 5,
   "metadata": {},
   "outputs": [
    {
     "data": {
      "text/plain": [
       "<matplotlib.axes._subplots.AxesSubplot at 0x7f8cb331a550>"
      ]
     },
     "execution_count": 5,
     "metadata": {},
     "output_type": "execute_result"
    },
    {
     "data": {
      "image/png": "[encoded data removed]",
      "text/plain": [
       "<Figure size 432x288 with 1 Axes>"
      ]
     },
     "metadata": {
      "needs_background": "light"
     },
     "output_type": "display_data"
    }
   ],
   "source": [
    "errors.plot()"
   ]
  },
  {
   "cell_type": "code",
   "execution_count": 5,
   "metadata": {
    "ExecuteTime": {
     "end_time": "2020-06-13T01:49:21.681028Z",
     "start_time": "2020-06-13T01:49:21.426027Z"
    }
   },
   "outputs": [
    {
     "data": {
      "text/plain": [
       "<matplotlib.axes._subplots.AxesSubplot at 0x1f5588b3d30>"
      ]
     },
     "execution_count": 5,
     "metadata": {},
     "output_type": "execute_result"
    },
    {
     "data": {
      "image/png": "[encoded data removed]",
      "text/plain": [
       "<Figure size 432x288 with 1 Axes>"
      ]
     },
     "metadata": {
      "needs_background": "light"
     },
     "output_type": "display_data"
    }
   ],
   "source": [
    "errors[61:90].plot()"
   ]
  },
  {
   "cell_type": "markdown",
   "metadata": {},
   "source": [
    "### Run test dataset \n"
   ]
  },
  {
   "cell_type": "code",
   "execution_count": 10,
   "metadata": {
    "ExecuteTime": {
     "end_time": "2020-06-13T01:55:47.376093Z",
     "start_time": "2020-06-13T01:55:42.975833Z"
    }
   },
   "outputs": [
    {
     "data": {
      "text/plain": [
       "<All keys matched successfully>"
      ]
     },
     "execution_count": 10,
     "metadata": {},
     "output_type": "execute_result"
    }
   ],
   "source": [
    "model_conv_trained = torchvision.models.resnet101(pretrained=True)\n",
    "\n",
    "num_ftrs = model_conv_trained.fc.in_features # get the number of features before the last layer\n",
    "model_conv_trained.fc = nn.Linear(num_ftrs, 2) # modify the last layer\n",
    "\n",
    "model_conv_trained = model_conv_trained.to(device)\n",
    "\n",
    "model_conv_trained.load_state_dict(torch.load('./model/best_model'))"
   ]
  },
  {
   "cell_type": "code",
   "execution_count": 11,
   "metadata": {
    "ExecuteTime": {
     "end_time": "2020-06-13T01:55:47.398094Z",
     "start_time": "2020-06-13T01:55:47.381093Z"
    }
   },
   "outputs": [],
   "source": [
    "test_data_dir = './data/test'\n",
    "test_files = [tf for tf in os.listdir(test_data_dir)]"
   ]
  },
  {
   "cell_type": "code",
   "execution_count": 12,
   "metadata": {
    "ExecuteTime": {
     "end_time": "2020-06-13T01:55:50.463463Z",
     "start_time": "2020-06-13T01:55:50.450459Z"
    }
   },
   "outputs": [
    {
     "data": {
      "text/plain": [
       "12500"
      ]
     },
     "execution_count": 12,
     "metadata": {},
     "output_type": "execute_result"
    }
   ],
   "source": [
    "test_dataset = CatDogDataset(test_files,test_data_dir,transform=val_transform_pipeline,mode='test')\n",
    "# size 12500\n",
    "len(test_dataset)"
   ]
  },
  {
   "cell_type": "code",
   "execution_count": 13,
   "metadata": {
    "ExecuteTime": {
     "end_time": "2020-06-13T01:55:54.077857Z",
     "start_time": "2020-06-13T01:55:54.072865Z"
    }
   },
   "outputs": [],
   "source": [
    "test_dataloader =  DataLoader(test_dataset,batch_size=BATCH_SIZE,shuffle=False)"
   ]
  },
  {
   "cell_type": "code",
   "execution_count": 69,
   "metadata": {
    "ExecuteTime": {
     "end_time": "2020-06-13T04:12:38.296922Z",
     "start_time": "2020-06-13T03:38:15.250296Z"
    },
    "scrolled": true
   },
   "outputs": [],
   "source": [
    "model_conv_trained.eval()\n",
    "# all_preds = []\n",
    "all_probs = []\n",
    "for i, (inputs,_) in enumerate(test_dataloader):\n",
    "    inputs = inputs.to(device)\n",
    "    with torch.no_grad():\n",
    "        outputs = model_conv_trained(inputs)\n",
    "        probs, preds = torch.max(torch.nn.functional.softmax(outputs,dim=1),1)\n",
    "        all_probs.extend(probs.tolist())\n",
    "#         all_preds.extend(preds.tolist())"
   ]
  },
  {
   "cell_type": "code",
   "execution_count": 70,
   "metadata": {
    "ExecuteTime": {
     "end_time": "2020-06-13T04:12:38.350008Z",
     "start_time": "2020-06-13T04:12:38.306841Z"
    }
   },
   "outputs": [],
   "source": [
    "submission_df = pd.DataFrame()\n",
    "submission_df['id'] = list(range(1,len(test_files)+1))\n",
    "submission_df['label'] = all_probs"
   ]
  },
  {
   "cell_type": "code",
   "execution_count": 71,
   "metadata": {
    "ExecuteTime": {
     "end_time": "2020-06-13T04:12:38.783066Z",
     "start_time": "2020-06-13T04:12:38.745009Z"
    },
    "collapsed": true
   },
   "outputs": [
    {
     "data": {
      "text/html": [
       "<div>\n",
       "<style scoped>\n",
       "    .dataframe tbody tr th:only-of-type {\n",
       "        vertical-align: middle;\n",
       "    }\n",
       "\n",
       "    .dataframe tbody tr th {\n",
       "        vertical-align: top;\n",
       "    }\n",
       "\n",
       "    .dataframe thead th {\n",
       "        text-align: right;\n",
       "    }\n",
       "</style>\n",
       "<table border=\"1\" class=\"dataframe\">\n",
       "  <thead>\n",
       "    <tr style=\"text-align: right;\">\n",
       "      <th></th>\n",
       "      <th>id</th>\n",
       "      <th>label</th>\n",
       "    </tr>\n",
       "  </thead>\n",
       "  <tbody>\n",
       "    <tr>\n",
       "      <th>0</th>\n",
       "      <td>1</td>\n",
       "      <td>0.711909</td>\n",
       "    </tr>\n",
       "    <tr>\n",
       "      <th>1</th>\n",
       "      <td>2</td>\n",
       "      <td>0.814382</td>\n",
       "    </tr>\n",
       "    <tr>\n",
       "      <th>2</th>\n",
       "      <td>3</td>\n",
       "      <td>0.869368</td>\n",
       "    </tr>\n",
       "    <tr>\n",
       "      <th>3</th>\n",
       "      <td>4</td>\n",
       "      <td>0.651740</td>\n",
       "    </tr>\n",
       "    <tr>\n",
       "      <th>4</th>\n",
       "      <td>5</td>\n",
       "      <td>0.758488</td>\n",
       "    </tr>\n",
       "    <tr>\n",
       "      <th>5</th>\n",
       "      <td>6</td>\n",
       "      <td>0.878054</td>\n",
       "    </tr>\n",
       "    <tr>\n",
       "      <th>6</th>\n",
       "      <td>7</td>\n",
       "      <td>0.748558</td>\n",
       "    </tr>\n",
       "    <tr>\n",
       "      <th>7</th>\n",
       "      <td>8</td>\n",
       "      <td>0.831729</td>\n",
       "    </tr>\n",
       "    <tr>\n",
       "      <th>8</th>\n",
       "      <td>9</td>\n",
       "      <td>0.509704</td>\n",
       "    </tr>\n",
       "    <tr>\n",
       "      <th>9</th>\n",
       "      <td>10</td>\n",
       "      <td>0.805781</td>\n",
       "    </tr>\n",
       "    <tr>\n",
       "      <th>10</th>\n",
       "      <td>11</td>\n",
       "      <td>0.810655</td>\n",
       "    </tr>\n",
       "    <tr>\n",
       "      <th>11</th>\n",
       "      <td>12</td>\n",
       "      <td>0.796937</td>\n",
       "    </tr>\n",
       "    <tr>\n",
       "      <th>12</th>\n",
       "      <td>13</td>\n",
       "      <td>0.833004</td>\n",
       "    </tr>\n",
       "    <tr>\n",
       "      <th>13</th>\n",
       "      <td>14</td>\n",
       "      <td>0.789139</td>\n",
       "    </tr>\n",
       "    <tr>\n",
       "      <th>14</th>\n",
       "      <td>15</td>\n",
       "      <td>0.753937</td>\n",
       "    </tr>\n",
       "    <tr>\n",
       "      <th>15</th>\n",
       "      <td>16</td>\n",
       "      <td>0.776695</td>\n",
       "    </tr>\n",
       "    <tr>\n",
       "      <th>16</th>\n",
       "      <td>17</td>\n",
       "      <td>0.750588</td>\n",
       "    </tr>\n",
       "    <tr>\n",
       "      <th>17</th>\n",
       "      <td>18</td>\n",
       "      <td>0.833342</td>\n",
       "    </tr>\n",
       "    <tr>\n",
       "      <th>18</th>\n",
       "      <td>19</td>\n",
       "      <td>0.854104</td>\n",
       "    </tr>\n",
       "    <tr>\n",
       "      <th>19</th>\n",
       "      <td>20</td>\n",
       "      <td>0.734143</td>\n",
       "    </tr>\n",
       "    <tr>\n",
       "      <th>20</th>\n",
       "      <td>21</td>\n",
       "      <td>0.790154</td>\n",
       "    </tr>\n",
       "    <tr>\n",
       "      <th>21</th>\n",
       "      <td>22</td>\n",
       "      <td>0.670187</td>\n",
       "    </tr>\n",
       "    <tr>\n",
       "      <th>22</th>\n",
       "      <td>23</td>\n",
       "      <td>0.863536</td>\n",
       "    </tr>\n",
       "    <tr>\n",
       "      <th>23</th>\n",
       "      <td>24</td>\n",
       "      <td>0.670848</td>\n",
       "    </tr>\n",
       "    <tr>\n",
       "      <th>24</th>\n",
       "      <td>25</td>\n",
       "      <td>0.763980</td>\n",
       "    </tr>\n",
       "    <tr>\n",
       "      <th>25</th>\n",
       "      <td>26</td>\n",
       "      <td>0.781544</td>\n",
       "    </tr>\n",
       "    <tr>\n",
       "      <th>26</th>\n",
       "      <td>27</td>\n",
       "      <td>0.762667</td>\n",
       "    </tr>\n",
       "    <tr>\n",
       "      <th>27</th>\n",
       "      <td>28</td>\n",
       "      <td>0.767640</td>\n",
       "    </tr>\n",
       "    <tr>\n",
       "      <th>28</th>\n",
       "      <td>29</td>\n",
       "      <td>0.703404</td>\n",
       "    </tr>\n",
       "    <tr>\n",
       "      <th>29</th>\n",
       "      <td>30</td>\n",
       "      <td>0.813119</td>\n",
       "    </tr>\n",
       "    <tr>\n",
       "      <th>...</th>\n",
       "      <td>...</td>\n",
       "      <td>...</td>\n",
       "    </tr>\n",
       "    <tr>\n",
       "      <th>12470</th>\n",
       "      <td>12471</td>\n",
       "      <td>0.808999</td>\n",
       "    </tr>\n",
       "    <tr>\n",
       "      <th>12471</th>\n",
       "      <td>12472</td>\n",
       "      <td>0.733670</td>\n",
       "    </tr>\n",
       "    <tr>\n",
       "      <th>12472</th>\n",
       "      <td>12473</td>\n",
       "      <td>0.825712</td>\n",
       "    </tr>\n",
       "    <tr>\n",
       "      <th>12473</th>\n",
       "      <td>12474</td>\n",
       "      <td>0.799679</td>\n",
       "    </tr>\n",
       "    <tr>\n",
       "      <th>12474</th>\n",
       "      <td>12475</td>\n",
       "      <td>0.622926</td>\n",
       "    </tr>\n",
       "    <tr>\n",
       "      <th>12475</th>\n",
       "      <td>12476</td>\n",
       "      <td>0.716804</td>\n",
       "    </tr>\n",
       "    <tr>\n",
       "      <th>12476</th>\n",
       "      <td>12477</td>\n",
       "      <td>0.737165</td>\n",
       "    </tr>\n",
       "    <tr>\n",
       "      <th>12477</th>\n",
       "      <td>12478</td>\n",
       "      <td>0.673084</td>\n",
       "    </tr>\n",
       "    <tr>\n",
       "      <th>12478</th>\n",
       "      <td>12479</td>\n",
       "      <td>0.691663</td>\n",
       "    </tr>\n",
       "    <tr>\n",
       "      <th>12479</th>\n",
       "      <td>12480</td>\n",
       "      <td>0.617146</td>\n",
       "    </tr>\n",
       "    <tr>\n",
       "      <th>12480</th>\n",
       "      <td>12481</td>\n",
       "      <td>0.731382</td>\n",
       "    </tr>\n",
       "    <tr>\n",
       "      <th>12481</th>\n",
       "      <td>12482</td>\n",
       "      <td>0.661927</td>\n",
       "    </tr>\n",
       "    <tr>\n",
       "      <th>12482</th>\n",
       "      <td>12483</td>\n",
       "      <td>0.533256</td>\n",
       "    </tr>\n",
       "    <tr>\n",
       "      <th>12483</th>\n",
       "      <td>12484</td>\n",
       "      <td>0.723253</td>\n",
       "    </tr>\n",
       "    <tr>\n",
       "      <th>12484</th>\n",
       "      <td>12485</td>\n",
       "      <td>0.609543</td>\n",
       "    </tr>\n",
       "    <tr>\n",
       "      <th>12485</th>\n",
       "      <td>12486</td>\n",
       "      <td>0.808930</td>\n",
       "    </tr>\n",
       "    <tr>\n",
       "      <th>12486</th>\n",
       "      <td>12487</td>\n",
       "      <td>0.771142</td>\n",
       "    </tr>\n",
       "    <tr>\n",
       "      <th>12487</th>\n",
       "      <td>12488</td>\n",
       "      <td>0.639251</td>\n",
       "    </tr>\n",
       "    <tr>\n",
       "      <th>12488</th>\n",
       "      <td>12489</td>\n",
       "      <td>0.684278</td>\n",
       "    </tr>\n",
       "    <tr>\n",
       "      <th>12489</th>\n",
       "      <td>12490</td>\n",
       "      <td>0.872724</td>\n",
       "    </tr>\n",
       "    <tr>\n",
       "      <th>12490</th>\n",
       "      <td>12491</td>\n",
       "      <td>0.544632</td>\n",
       "    </tr>\n",
       "    <tr>\n",
       "      <th>12491</th>\n",
       "      <td>12492</td>\n",
       "      <td>0.784689</td>\n",
       "    </tr>\n",
       "    <tr>\n",
       "      <th>12492</th>\n",
       "      <td>12493</td>\n",
       "      <td>0.575625</td>\n",
       "    </tr>\n",
       "    <tr>\n",
       "      <th>12493</th>\n",
       "      <td>12494</td>\n",
       "      <td>0.799199</td>\n",
       "    </tr>\n",
       "    <tr>\n",
       "      <th>12494</th>\n",
       "      <td>12495</td>\n",
       "      <td>0.721974</td>\n",
       "    </tr>\n",
       "    <tr>\n",
       "      <th>12495</th>\n",
       "      <td>12496</td>\n",
       "      <td>0.596185</td>\n",
       "    </tr>\n",
       "    <tr>\n",
       "      <th>12496</th>\n",
       "      <td>12497</td>\n",
       "      <td>0.699739</td>\n",
       "    </tr>\n",
       "    <tr>\n",
       "      <th>12497</th>\n",
       "      <td>12498</td>\n",
       "      <td>0.823015</td>\n",
       "    </tr>\n",
       "    <tr>\n",
       "      <th>12498</th>\n",
       "      <td>12499</td>\n",
       "      <td>0.824971</td>\n",
       "    </tr>\n",
       "    <tr>\n",
       "      <th>12499</th>\n",
       "      <td>12500</td>\n",
       "      <td>0.791880</td>\n",
       "    </tr>\n",
       "  </tbody>\n",
       "</table>\n",
       "<p>12500 rows × 2 columns</p>\n",
       "</div>"
      ],
      "text/plain": [
       "          id     label\n",
       "0          1  0.711909\n",
       "1          2  0.814382\n",
       "2          3  0.869368\n",
       "3          4  0.651740\n",
       "4          5  0.758488\n",
       "5          6  0.878054\n",
       "6          7  0.748558\n",
       "7          8  0.831729\n",
       "8          9  0.509704\n",
       "9         10  0.805781\n",
       "10        11  0.810655\n",
       "11        12  0.796937\n",
       "12        13  0.833004\n",
       "13        14  0.789139\n",
       "14        15  0.753937\n",
       "15        16  0.776695\n",
       "16        17  0.750588\n",
       "17        18  0.833342\n",
       "18        19  0.854104\n",
       "19        20  0.734143\n",
       "20        21  0.790154\n",
       "21        22  0.670187\n",
       "22        23  0.863536\n",
       "23        24  0.670848\n",
       "24        25  0.763980\n",
       "25        26  0.781544\n",
       "26        27  0.762667\n",
       "27        28  0.767640\n",
       "28        29  0.703404\n",
       "29        30  0.813119\n",
       "...      ...       ...\n",
       "12470  12471  0.808999\n",
       "12471  12472  0.733670\n",
       "12472  12473  0.825712\n",
       "12473  12474  0.799679\n",
       "12474  12475  0.622926\n",
       "12475  12476  0.716804\n",
       "12476  12477  0.737165\n",
       "12477  12478  0.673084\n",
       "12478  12479  0.691663\n",
       "12479  12480  0.617146\n",
       "12480  12481  0.731382\n",
       "12481  12482  0.661927\n",
       "12482  12483  0.533256\n",
       "12483  12484  0.723253\n",
       "12484  12485  0.609543\n",
       "12485  12486  0.808930\n",
       "12486  12487  0.771142\n",
       "12487  12488  0.639251\n",
       "12488  12489  0.684278\n",
       "12489  12490  0.872724\n",
       "12490  12491  0.544632\n",
       "12491  12492  0.784689\n",
       "12492  12493  0.575625\n",
       "12493  12494  0.799199\n",
       "12494  12495  0.721974\n",
       "12495  12496  0.596185\n",
       "12496  12497  0.699739\n",
       "12497  12498  0.823015\n",
       "12498  12499  0.824971\n",
       "12499  12500  0.791880\n",
       "\n",
       "[12500 rows x 2 columns]"
      ]
     },
     "execution_count": 71,
     "metadata": {},
     "output_type": "execute_result"
    }
   ],
   "source": [
    "submission_df"
   ]
  },
  {
   "cell_type": "code",
   "execution_count": 72,
   "metadata": {
    "ExecuteTime": {
     "end_time": "2020-06-13T04:15:53.070092Z",
     "start_time": "2020-06-13T04:15:52.999033Z"
    }
   },
   "outputs": [],
   "source": [
    "submission_df.to_csv('submission.csv',index=False)"
   ]
  }
 ],
 "metadata": {
  "kernelspec": {
   "display_name": "Python 3",
   "language": "python",
   "name": "python3"
  },
  "language_info": {
   "codemirror_mode": {
    "name": "ipython",
    "version": 3
   },
   "file_extension": ".py",
   "mimetype": "text/x-python",
   "name": "python",
   "nbconvert_exporter": "python",
   "pygments_lexer": "ipython3",
   "version": "3.7.3"
  },
  "toc": {
   "base_numbering": 1,
   "nav_menu": {
    "height": "174px",
    "width": "269px"
   },
   "number_sections": true,
   "sideBar": true,
   "skip_h1_title": false,
   "title_cell": "Table of Contents",
   "title_sidebar": "Contents",
   "toc_cell": false,
   "toc_position": {},
   "toc_section_display": true,
   "toc_window_display": false
  }
 },
 "nbformat": 4,
 "nbformat_minor": 4
}
