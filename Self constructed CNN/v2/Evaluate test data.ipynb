{
 "cells": [
  {
   "cell_type": "code",
   "execution_count": 1,
   "metadata": {
    "ExecuteTime": {
     "end_time": "2020-06-27T16:07:31.772226Z",
     "start_time": "2020-06-27T16:07:28.333410Z"
    }
   },
   "outputs": [],
   "source": [
    "import numpy as np # linear algebra\n",
    "import pandas as pd # data processing, CSV file I/O (e.g. pd.read_csv)\n",
    "import os, time, copy, math\n",
    "\n",
    "import torch\n",
    "import torch.nn as nn\n",
    "import torch.optim as optim\n",
    "from torch.optim import lr_scheduler\n",
    "\n",
    "import torchvision\n",
    "from torch.utils.data import Dataset, DataLoader, ConcatDataset\n",
    "from torchvision import transforms\n",
    "\n",
    "import matplotlib.pyplot as plt\n",
    "from PIL import Image\n",
    "\n",
    "%matplotlib inline\n",
    "\n",
    "device = torch.device(\"cuda:0\" if torch.cuda.is_available() else \"cpu\")"
   ]
  },
  {
   "cell_type": "code",
   "execution_count": 2,
   "metadata": {
    "ExecuteTime": {
     "end_time": "2020-06-27T16:07:31.786150Z",
     "start_time": "2020-06-27T16:07:31.776177Z"
    }
   },
   "outputs": [],
   "source": [
    "val_transform = transforms.Compose([\n",
    "    transforms.RandomResizedCrop(224, scale=(0.96, 1.0), ratio=(0.95, 1.05)),\n",
    "    transforms.ToTensor(),\n",
    "    transforms.Normalize([0.485, 0.456, 0.406], [0.229, 0.224, 0.225])\n",
    "])"
   ]
  },
  {
   "cell_type": "code",
   "execution_count": 3,
   "metadata": {
    "ExecuteTime": {
     "end_time": "2020-06-27T16:07:31.812082Z",
     "start_time": "2020-06-27T16:07:31.797121Z"
    }
   },
   "outputs": [],
   "source": [
    "from PIL import Image\n",
    "from torch.utils.data import Dataset\n",
    "\n",
    "class CatsDogs(Dataset):\n",
    "    def __init__(self, files, transform, target=-1):\n",
    "        self.files = files\n",
    "        self.transform = transform\n",
    "        self.target = target # training data will have target, val/test will have -1\n",
    "            \n",
    "    def __len__(self):\n",
    "        return len(self.files)\n",
    "        \n",
    "    def __getitem__(self,idx):\n",
    "        img =  Image.open(self.files[idx])\n",
    "        tensor = self.transform(img)\n",
    "        return tensor, self.target\n",
    "        "
   ]
  },
  {
   "cell_type": "code",
   "execution_count": 5,
   "metadata": {
    "ExecuteTime": {
     "end_time": "2020-06-27T16:07:50.812397Z",
     "start_time": "2020-06-27T16:07:50.722638Z"
    }
   },
   "outputs": [],
   "source": [
    "import os\n",
    "\n",
    "test_folder = '../../data/test'\n",
    "test_files = [os.path.join(test_folder, image) for image in os.listdir(test_folder)]"
   ]
  },
  {
   "cell_type": "code",
   "execution_count": 6,
   "metadata": {
    "ExecuteTime": {
     "end_time": "2020-06-27T16:07:53.660857Z",
     "start_time": "2020-06-27T16:07:53.652879Z"
    }
   },
   "outputs": [],
   "source": [
    "from torch.utils.data import DataLoader\n",
    "\n",
    "test_dataset = CatsDogs(test_files,val_transform)\n",
    "test_dataloader = DataLoader(test_dataset,batch_size=50,shuffle=False)"
   ]
  },
  {
   "cell_type": "code",
   "execution_count": 7,
   "metadata": {
    "ExecuteTime": {
     "end_time": "2020-06-27T16:08:03.193623Z",
     "start_time": "2020-06-27T16:08:03.176665Z"
    }
   },
   "outputs": [],
   "source": [
    "import torch.nn as nn\n",
    "import torch.nn.functional as F\n",
    "\n",
    "class Net(nn.Module):\n",
    "    def __init__(self):\n",
    "        super(Net,self).__init__()\n",
    "                                                # 224x224x3\n",
    "        self.conv1 = nn.Conv2d(3,16,3,padding=1) # 112x112x16\n",
    "        self.conv2 = nn.Conv2d(16,32,3,padding=1) # 56x56x32\n",
    "        self.conv3 = nn.Conv2d(32,64,3,padding=1) # 28x28x64       \n",
    "        self.conv4 = nn.Conv2d(64,128,3,padding=1) # 14x14x128\n",
    "        self.conv5 = nn.Conv2d(128,256,3,padding=1) # 7x7x256\n",
    "        \n",
    "        self.pooling = nn.MaxPool2d(2,2)\n",
    "        \n",
    "        self.dropout = nn.Dropout(0.2) \n",
    "        self.fc1 = nn.Linear(7*7*256,500)\n",
    "        self.fc2 = nn.Linear(500,1)\n",
    "        \n",
    "    def forward(self,x):\n",
    "        out = self.pooling(F.relu(self.conv1(x)))\n",
    "        out = self.pooling(F.relu(self.conv2(out)))\n",
    "        out = self.pooling(F.relu(self.conv3(out)))        \n",
    "        out = self.pooling(F.relu(self.conv4(out)))\n",
    "        out = self.pooling(F.relu(self.conv5(out)))\n",
    "\n",
    "        out = out.view(-1,7*7*256)\n",
    "        \n",
    "        out = self.dropout(out)\n",
    "        out = F.relu(self.fc1(out))\n",
    "        \n",
    "        out = self.dropout(out)\n",
    "        out = self.fc2(out) # output class score\n",
    "        \n",
    "        return out"
   ]
  },
  {
   "cell_type": "code",
   "execution_count": 8,
   "metadata": {
    "ExecuteTime": {
     "end_time": "2020-06-27T16:08:08.765872Z",
     "start_time": "2020-06-27T16:08:05.699204Z"
    }
   },
   "outputs": [
    {
     "data": {
      "text/plain": [
       "<All keys matched successfully>"
      ]
     },
     "execution_count": 8,
     "metadata": {},
     "output_type": "execute_result"
    }
   ],
   "source": [
    "import torch.optim as optim\n",
    "\n",
    "net = Net()\n",
    "\n",
    "net.load_state_dict(torch.load('best_model.pth'))"
   ]
  },
  {
   "cell_type": "code",
   "execution_count": 9,
   "metadata": {
    "ExecuteTime": {
     "end_time": "2020-06-27T16:10:08.938011Z",
     "start_time": "2020-06-27T16:08:10.873602Z"
    },
    "scrolled": false
   },
   "outputs": [
    {
     "name": "stderr",
     "output_type": "stream",
     "text": [
      "D:\\Software\\Anaconda3\\lib\\site-packages\\torch\\nn\\functional.py:1569: UserWarning: nn.functional.sigmoid is deprecated. Use torch.sigmoid instead.\n",
      "  warnings.warn(\"nn.functional.sigmoid is deprecated. Use torch.sigmoid instead.\")\n"
     ]
    }
   ],
   "source": [
    "net.to(device)\n",
    "net.eval()\n",
    "probs = []\n",
    "for idx, (img, target) in enumerate(test_dataloader):\n",
    "    img, target = img.to(device), target.to(device)\n",
    "\n",
    "    with torch.no_grad():\n",
    "        output = net(img)\n",
    "        prob = F.sigmoid(output)\n",
    "        prob.to('cpu')\n",
    "        probs.extend(prob.tolist())"
   ]
  },
  {
   "cell_type": "code",
   "execution_count": 10,
   "metadata": {
    "ExecuteTime": {
     "end_time": "2020-06-27T16:10:09.000844Z",
     "start_time": "2020-06-27T16:10:08.942998Z"
    }
   },
   "outputs": [],
   "source": [
    "import pandas as pd\n",
    "\n",
    "result = pd.DataFrame()\n",
    "result['id'] = list(range(1,len(test_files)+1))\n",
    "result['label'] = [x[0] for x in probs]"
   ]
  },
  {
   "cell_type": "code",
   "execution_count": 11,
   "metadata": {
    "ExecuteTime": {
     "end_time": "2020-06-27T16:10:09.106571Z",
     "start_time": "2020-06-27T16:10:09.007826Z"
    }
   },
   "outputs": [],
   "source": [
    "result.to_csv('self_created_nn_v2_submission_df.csv',index=False)"
   ]
  }
 ],
 "metadata": {
  "kernelspec": {
   "display_name": "Python 3",
   "language": "python",
   "name": "python3"
  },
  "language_info": {
   "codemirror_mode": {
    "name": "ipython",
    "version": 3
   },
   "file_extension": ".py",
   "mimetype": "text/x-python",
   "name": "python",
   "nbconvert_exporter": "python",
   "pygments_lexer": "ipython3",
   "version": "3.7.3"
  },
  "toc": {
   "base_numbering": 1,
   "nav_menu": {},
   "number_sections": true,
   "sideBar": true,
   "skip_h1_title": false,
   "title_cell": "Table of Contents",
   "title_sidebar": "Contents",
   "toc_cell": false,
   "toc_position": {},
   "toc_section_display": true,
   "toc_window_display": false
  }
 },
 "nbformat": 4,
 "nbformat_minor": 2
}
